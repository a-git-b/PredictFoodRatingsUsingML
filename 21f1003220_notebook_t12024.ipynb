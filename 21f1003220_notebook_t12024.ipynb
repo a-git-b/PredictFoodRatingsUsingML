{
  "metadata": {
    "kernelspec": {
      "language": "python",
      "display_name": "Python 3",
      "name": "python3"
    },
    "language_info": {
      "name": "python",
      "version": "3.10.13",
      "mimetype": "text/x-python",
      "codemirror_mode": {
        "name": "ipython",
        "version": 3
      },
      "pygments_lexer": "ipython3",
      "nbconvert_exporter": "python",
      "file_extension": ".py"
    },
    "kaggle": {
      "accelerator": "none",
      "dataSources": [
        {
          "sourceId": 67079,
          "databundleVersionId": 7452256,
          "sourceType": "competition"
        }
      ],
      "dockerImageVersionId": 30646,
      "isInternetEnabled": true,
      "language": "python",
      "sourceType": "notebook",
      "isGpuEnabled": false
    },
    "colab": {
      "name": "21f1003220-notebook-t12024",
      "provenance": [],
      "include_colab_link": true
    }
  },
  "nbformat_minor": 0,
  "nbformat": 4,
  "cells": [
    {
      "cell_type": "markdown",
      "metadata": {
        "id": "view-in-github",
        "colab_type": "text"
      },
      "source": [
        "<a href=\"https://colab.research.google.com/github/a-git-b/PredictFoodRatingsUsingML/blob/master/21f1003220_notebook_t12024.ipynb\" target=\"_parent\"><img src=\"https://colab.research.google.com/assets/colab-badge.svg\" alt=\"Open In Colab\"/></a>"
      ]
    },
    {
      "source": [
        "\n",
        "# IMPORTANT: RUN THIS CELL IN ORDER TO IMPORT YOUR KAGGLE DATA SOURCES\n",
        "# TO THE CORRECT LOCATION (/kaggle/input) IN YOUR NOTEBOOK,\n",
        "# THEN FEEL FREE TO DELETE THIS CELL.\n",
        "# NOTE: THIS NOTEBOOK ENVIRONMENT DIFFERS FROM KAGGLE'S PYTHON\n",
        "# ENVIRONMENT SO THERE MAY BE MISSING LIBRARIES USED BY YOUR\n",
        "# NOTEBOOK.\n",
        "\n",
        "import os\n",
        "import sys\n",
        "from tempfile import NamedTemporaryFile\n",
        "from urllib.request import urlopen\n",
        "from urllib.parse import unquote, urlparse\n",
        "from urllib.error import HTTPError\n",
        "from zipfile import ZipFile\n",
        "import tarfile\n",
        "import shutil\n",
        "\n",
        "CHUNK_SIZE = 40960\n",
        "DATA_SOURCE_MAPPING = 'recipe-for-rating-predict-food-ratings-using-ml:https%3A%2F%2Fstorage.googleapis.com%2Fkaggle-competitions-data%2Fkaggle-v2%2F67079%2F7452256%2Fbundle%2Farchive.zip%3FX-Goog-Algorithm%3DGOOG4-RSA-SHA256%26X-Goog-Credential%3Dgcp-kaggle-com%2540kaggle-161607.iam.gserviceaccount.com%252F20240705%252Fauto%252Fstorage%252Fgoog4_request%26X-Goog-Date%3D20240705T185241Z%26X-Goog-Expires%3D259200%26X-Goog-SignedHeaders%3Dhost%26X-Goog-Signature%3D85ed46996eff2af5a91780758f014ec81c2c882d4092df44f5efbc1b07425b0b0dd56b3bd53d8df1e44d7d90104b6fad2cdffb2fa708f3ac7fe6b5596a3610cbde13b89e467fcece710aa3ef2a496660b15845a3c77d13c3dea9896e72e4ce5e17317c2441473c2093d7a89b9b39017fa570a2889237474cb7476c81f6ad053ce965524a580eb291857b45679013d68d04fb068ec6ac832fada3a3af032607fefdc19593633dfbe087b799b72a12aba20704e443b3f2cf7279a521f0377093d3c3699c21029d764166aca2ae91da9b415cd1e52e99148dce29b46a908f81c886bf95b0840195a069c89ab1c77460eb639fce5248d4960db4f1f1472612d954d3'\n",
        "\n",
        "KAGGLE_INPUT_PATH='/kaggle/input'\n",
        "KAGGLE_WORKING_PATH='/kaggle/working'\n",
        "KAGGLE_SYMLINK='kaggle'\n",
        "\n",
        "!umount /kaggle/input/ 2> /dev/null\n",
        "shutil.rmtree('/kaggle/input', ignore_errors=True)\n",
        "os.makedirs(KAGGLE_INPUT_PATH, 0o777, exist_ok=True)\n",
        "os.makedirs(KAGGLE_WORKING_PATH, 0o777, exist_ok=True)\n",
        "\n",
        "try:\n",
        "  os.symlink(KAGGLE_INPUT_PATH, os.path.join(\"..\", 'input'), target_is_directory=True)\n",
        "except FileExistsError:\n",
        "  pass\n",
        "try:\n",
        "  os.symlink(KAGGLE_WORKING_PATH, os.path.join(\"..\", 'working'), target_is_directory=True)\n",
        "except FileExistsError:\n",
        "  pass\n",
        "\n",
        "for data_source_mapping in DATA_SOURCE_MAPPING.split(','):\n",
        "    directory, download_url_encoded = data_source_mapping.split(':')\n",
        "    download_url = unquote(download_url_encoded)\n",
        "    filename = urlparse(download_url).path\n",
        "    destination_path = os.path.join(KAGGLE_INPUT_PATH, directory)\n",
        "    try:\n",
        "        with urlopen(download_url) as fileres, NamedTemporaryFile() as tfile:\n",
        "            total_length = fileres.headers['content-length']\n",
        "            print(f'Downloading {directory}, {total_length} bytes compressed')\n",
        "            dl = 0\n",
        "            data = fileres.read(CHUNK_SIZE)\n",
        "            while len(data) > 0:\n",
        "                dl += len(data)\n",
        "                tfile.write(data)\n",
        "                done = int(50 * dl / int(total_length))\n",
        "                sys.stdout.write(f\"\\r[{'=' * done}{' ' * (50-done)}] {dl} bytes downloaded\")\n",
        "                sys.stdout.flush()\n",
        "                data = fileres.read(CHUNK_SIZE)\n",
        "            if filename.endswith('.zip'):\n",
        "              with ZipFile(tfile) as zfile:\n",
        "                zfile.extractall(destination_path)\n",
        "            else:\n",
        "              with tarfile.open(tfile.name) as tarfile:\n",
        "                tarfile.extractall(destination_path)\n",
        "            print(f'\\nDownloaded and uncompressed: {directory}')\n",
        "    except HTTPError as e:\n",
        "        print(f'Failed to load (likely expired) {download_url} to path {destination_path}')\n",
        "        continue\n",
        "    except OSError as e:\n",
        "        print(f'Failed to load {download_url} to path {destination_path}')\n",
        "        continue\n",
        "\n",
        "print('Data source import complete.')\n"
      ],
      "metadata": {
        "id": "rYaC--zSPdk6",
        "outputId": "7f72f6fa-f09f-402c-af62-b8df9e19d132",
        "colab": {
          "base_uri": "https://localhost:8080/"
        }
      },
      "cell_type": "code",
      "outputs": [
        {
          "output_type": "stream",
          "name": "stdout",
          "text": [
            "Downloading recipe-for-rating-predict-food-ratings-using-ml, 2426532 bytes compressed\n",
            "[==================================================] 2426532 bytes downloaded\n",
            "Downloaded and uncompressed: recipe-for-rating-predict-food-ratings-using-ml\n",
            "Data source import complete.\n"
          ]
        }
      ],
      "execution_count": 1
    },
    {
      "cell_type": "code",
      "source": [
        "# This Python 3 environment comes with many helpful analytics libraries installed\n",
        "# It is defined by the kaggle/python Docker image: https://github.com/kaggle/docker-python\n",
        "# For example, here's several helpful packages to load\n",
        "\n",
        "import numpy as np # linear algebra\n",
        "import pandas as pd # data processing, CSV file I/O (e.g. pd.read_csv)\n",
        "import re\n",
        "\n",
        "\n",
        "# Input data files are available in the read-only \"../input/\" directory\n",
        "# For example, running this (by clicking run or pressing Shift+Enter) will list all files under the input directory\n",
        "\n",
        "import os\n",
        "for dirname, _, filenames in os.walk('/kaggle/input'):\n",
        "    for filename in filenames:\n",
        "        print(os.path.join(dirname, filename))\n",
        "\n",
        "# You can write up to 20GB to the current directory (/kaggle/working/) that gets preserved as output when you create a version using \"Save & Run All\"\n",
        "# You can also write temporary files to /kaggle/temp/, but they won't be saved outside of the current session"
      ],
      "metadata": {
        "_uuid": "8f2839f25d086af736a60e9eeb907d3b93b6e0e5",
        "_cell_guid": "b1076dfc-b9ad-4769-8c92-a6c4dae69d19",
        "execution": {
          "iopub.status.busy": "2024-04-26T03:47:32.235335Z",
          "iopub.execute_input": "2024-04-26T03:47:32.235746Z",
          "iopub.status.idle": "2024-04-26T03:47:33.242658Z",
          "shell.execute_reply.started": "2024-04-26T03:47:32.235713Z",
          "shell.execute_reply": "2024-04-26T03:47:33.241448Z"
        },
        "trusted": true,
        "id": "Hc0gODh8Pdk9",
        "outputId": "981809f5-80d4-4bb6-e325-a8b67ffc8d5f",
        "colab": {
          "base_uri": "https://localhost:8080/"
        }
      },
      "execution_count": 2,
      "outputs": [
        {
          "output_type": "stream",
          "name": "stdout",
          "text": [
            "/kaggle/input/recipe-for-rating-predict-food-ratings-using-ml/sample.csv\n",
            "/kaggle/input/recipe-for-rating-predict-food-ratings-using-ml/test.csv\n",
            "/kaggle/input/recipe-for-rating-predict-food-ratings-using-ml/train.csv\n"
          ]
        }
      ]
    },
    {
      "cell_type": "code",
      "source": [
        "from sklearn.tree import DecisionTreeClassifier\n",
        "from sklearn.model_selection import train_test_split\n",
        "from sklearn.metrics import accuracy_score\n",
        "from sklearn.linear_model import LogisticRegression\n",
        "from sklearn.model_selection import cross_val_score\n",
        "from sklearn.feature_extraction.text import TfidfVectorizer\n",
        "from sklearn.linear_model import SGDClassifier\n",
        "import xgboost as xgb\n",
        "from sklearn.preprocessing import MinMaxScaler,StandardScaler\n",
        "from sklearn.svm import SVC\n",
        "import seaborn as sns\n",
        "from sklearn.ensemble import RandomForestClassifier\n",
        "from imblearn.ensemble import BalancedRandomForestClassifier\n",
        "from imblearn.over_sampling import SMOTE"
      ],
      "metadata": {
        "execution": {
          "iopub.status.busy": "2024-04-26T05:11:19.14223Z",
          "iopub.execute_input": "2024-04-26T05:11:19.142685Z",
          "iopub.status.idle": "2024-04-26T05:11:19.149417Z",
          "shell.execute_reply.started": "2024-04-26T05:11:19.142657Z",
          "shell.execute_reply": "2024-04-26T05:11:19.14825Z"
        },
        "trusted": true,
        "id": "IcHAVRTAPdk-"
      },
      "execution_count": null,
      "outputs": []
    },
    {
      "cell_type": "markdown",
      "source": [
        "## Loading Data"
      ],
      "metadata": {
        "id": "HGOoyHGsPdk_"
      }
    },
    {
      "cell_type": "code",
      "source": [
        "# training data\n",
        "train = pd.read_csv('/kaggle/input/recipe-for-rating-predict-food-ratings-using-ml/train.csv')"
      ],
      "metadata": {
        "execution": {
          "iopub.status.busy": "2024-04-26T05:11:21.34288Z",
          "iopub.execute_input": "2024-04-26T05:11:21.343541Z",
          "iopub.status.idle": "2024-04-26T05:11:21.456687Z",
          "shell.execute_reply.started": "2024-04-26T05:11:21.34351Z",
          "shell.execute_reply": "2024-04-26T05:11:21.455743Z"
        },
        "trusted": true,
        "id": "6p8P9KZrPdlA"
      },
      "execution_count": 3,
      "outputs": []
    },
    {
      "cell_type": "code",
      "source": [
        "# test data\n",
        "test = pd.read_csv('/kaggle/input/recipe-for-rating-predict-food-ratings-using-ml/test.csv')"
      ],
      "metadata": {
        "execution": {
          "iopub.status.busy": "2024-04-26T07:10:35.875511Z",
          "iopub.execute_input": "2024-04-26T07:10:35.875924Z",
          "iopub.status.idle": "2024-04-26T07:10:35.918136Z",
          "shell.execute_reply.started": "2024-04-26T07:10:35.875893Z",
          "shell.execute_reply": "2024-04-26T07:10:35.916879Z"
        },
        "trusted": true,
        "id": "tcr_Yn96PdlA"
      },
      "execution_count": null,
      "outputs": []
    },
    {
      "cell_type": "code",
      "source": [
        "train.head()"
      ],
      "metadata": {
        "execution": {
          "iopub.status.busy": "2024-04-26T05:11:24.153301Z",
          "iopub.execute_input": "2024-04-26T05:11:24.153724Z",
          "iopub.status.idle": "2024-04-26T05:11:24.169083Z",
          "shell.execute_reply.started": "2024-04-26T05:11:24.153693Z",
          "shell.execute_reply": "2024-04-26T05:11:24.167961Z"
        },
        "trusted": true,
        "id": "zeuLfVnhPdlB"
      },
      "execution_count": null,
      "outputs": []
    },
    {
      "cell_type": "code",
      "source": [
        "train.shape"
      ],
      "metadata": {
        "execution": {
          "iopub.status.busy": "2024-04-26T05:11:26.685641Z",
          "iopub.execute_input": "2024-04-26T05:11:26.686035Z",
          "iopub.status.idle": "2024-04-26T05:11:26.692824Z",
          "shell.execute_reply.started": "2024-04-26T05:11:26.686004Z",
          "shell.execute_reply": "2024-04-26T05:11:26.69158Z"
        },
        "trusted": true,
        "id": "QcM6VJa4PdlC"
      },
      "execution_count": null,
      "outputs": []
    },
    {
      "cell_type": "markdown",
      "source": [
        "## Handling Missing Values"
      ],
      "metadata": {
        "id": "1QziiE6NPdlC"
      }
    },
    {
      "cell_type": "code",
      "source": [
        "train.isnull().sum()"
      ],
      "metadata": {
        "execution": {
          "iopub.status.busy": "2024-04-26T05:11:28.238153Z",
          "iopub.execute_input": "2024-04-26T05:11:28.238545Z",
          "iopub.status.idle": "2024-04-26T05:11:28.251782Z",
          "shell.execute_reply.started": "2024-04-26T05:11:28.238514Z",
          "shell.execute_reply": "2024-04-26T05:11:28.25063Z"
        },
        "trusted": true,
        "id": "cn8KbhHlPdlD"
      },
      "execution_count": null,
      "outputs": []
    },
    {
      "cell_type": "code",
      "source": [
        "train = train.dropna()"
      ],
      "metadata": {
        "execution": {
          "iopub.status.busy": "2024-04-26T05:11:30.265446Z",
          "iopub.execute_input": "2024-04-26T05:11:30.26643Z",
          "iopub.status.idle": "2024-04-26T05:11:30.279191Z",
          "shell.execute_reply.started": "2024-04-26T05:11:30.266385Z",
          "shell.execute_reply": "2024-04-26T05:11:30.278088Z"
        },
        "trusted": true,
        "id": "guqCQZQMPdlD"
      },
      "execution_count": null,
      "outputs": []
    },
    {
      "cell_type": "code",
      "source": [
        "train.isnull().sum()"
      ],
      "metadata": {
        "execution": {
          "iopub.status.busy": "2024-04-26T05:11:31.577815Z",
          "iopub.execute_input": "2024-04-26T05:11:31.578534Z",
          "iopub.status.idle": "2024-04-26T05:11:31.593708Z",
          "shell.execute_reply.started": "2024-04-26T05:11:31.578498Z",
          "shell.execute_reply": "2024-04-26T05:11:31.592476Z"
        },
        "trusted": true,
        "id": "xnVLwDHEPdlD"
      },
      "execution_count": null,
      "outputs": []
    },
    {
      "cell_type": "code",
      "source": [
        "train.shape"
      ],
      "metadata": {
        "execution": {
          "iopub.status.busy": "2024-04-26T05:11:33.829727Z",
          "iopub.execute_input": "2024-04-26T05:11:33.830127Z",
          "iopub.status.idle": "2024-04-26T05:11:33.836906Z",
          "shell.execute_reply.started": "2024-04-26T05:11:33.830099Z",
          "shell.execute_reply": "2024-04-26T05:11:33.835655Z"
        },
        "trusted": true,
        "id": "OtCUdyjPPdlD"
      },
      "execution_count": null,
      "outputs": []
    },
    {
      "cell_type": "markdown",
      "source": [
        "## Exploring Data"
      ],
      "metadata": {
        "id": "g7jFA-avPdlE"
      }
    },
    {
      "cell_type": "code",
      "source": [
        "train['RecipeNumber'].value_counts()"
      ],
      "metadata": {
        "execution": {
          "iopub.status.busy": "2024-04-26T05:11:35.522139Z",
          "iopub.execute_input": "2024-04-26T05:11:35.522521Z",
          "iopub.status.idle": "2024-04-26T05:11:35.531445Z",
          "shell.execute_reply.started": "2024-04-26T05:11:35.522492Z",
          "shell.execute_reply": "2024-04-26T05:11:35.530325Z"
        },
        "trusted": true,
        "id": "CsE4gAHnPdlE"
      },
      "execution_count": null,
      "outputs": []
    },
    {
      "cell_type": "code",
      "source": [
        "train['RecipeCode'].value_counts()"
      ],
      "metadata": {
        "execution": {
          "iopub.status.busy": "2024-04-26T05:11:37.738038Z",
          "iopub.execute_input": "2024-04-26T05:11:37.738794Z",
          "iopub.status.idle": "2024-04-26T05:11:37.747548Z",
          "shell.execute_reply.started": "2024-04-26T05:11:37.738761Z",
          "shell.execute_reply": "2024-04-26T05:11:37.746279Z"
        },
        "trusted": true,
        "id": "97U9ldQaPdlE"
      },
      "execution_count": null,
      "outputs": []
    },
    {
      "cell_type": "code",
      "source": [
        "train['Rating'].value_counts()"
      ],
      "metadata": {
        "execution": {
          "iopub.status.busy": "2024-04-26T05:11:46.807807Z",
          "iopub.execute_input": "2024-04-26T05:11:46.808607Z",
          "iopub.status.idle": "2024-04-26T05:11:46.816728Z",
          "shell.execute_reply.started": "2024-04-26T05:11:46.808554Z",
          "shell.execute_reply": "2024-04-26T05:11:46.815664Z"
        },
        "trusted": true,
        "id": "p9LZqXPBPdlE"
      },
      "execution_count": null,
      "outputs": []
    },
    {
      "cell_type": "code",
      "source": [
        "sns.countplot(train,x='Rating')"
      ],
      "metadata": {
        "execution": {
          "iopub.status.busy": "2024-04-26T05:11:49.801586Z",
          "iopub.execute_input": "2024-04-26T05:11:49.80211Z",
          "iopub.status.idle": "2024-04-26T05:11:49.998424Z",
          "shell.execute_reply.started": "2024-04-26T05:11:49.80208Z",
          "shell.execute_reply": "2024-04-26T05:11:49.997329Z"
        },
        "trusted": true,
        "id": "ita4S1q5PdlE"
      },
      "execution_count": null,
      "outputs": []
    },
    {
      "cell_type": "code",
      "source": [
        "train[train['Rating']==0]"
      ],
      "metadata": {
        "execution": {
          "iopub.status.busy": "2024-04-26T05:11:53.780116Z",
          "iopub.execute_input": "2024-04-26T05:11:53.780528Z",
          "iopub.status.idle": "2024-04-26T05:11:53.801041Z",
          "shell.execute_reply.started": "2024-04-26T05:11:53.780498Z",
          "shell.execute_reply": "2024-04-26T05:11:53.800002Z"
        },
        "trusted": true,
        "id": "otLYpCVuPdlE"
      },
      "execution_count": null,
      "outputs": []
    },
    {
      "cell_type": "code",
      "source": [
        "sel_features = ['UserReputation','ReplyCount','ThumbsUpCount','ThumbsDownCount','BestScore']"
      ],
      "metadata": {
        "execution": {
          "iopub.status.busy": "2024-04-26T05:12:02.834159Z",
          "iopub.execute_input": "2024-04-26T05:12:02.834571Z",
          "iopub.status.idle": "2024-04-26T05:12:02.839498Z",
          "shell.execute_reply.started": "2024-04-26T05:12:02.834542Z",
          "shell.execute_reply": "2024-04-26T05:12:02.83846Z"
        },
        "trusted": true,
        "id": "42Sy8dBGPdlE"
      },
      "execution_count": null,
      "outputs": []
    },
    {
      "cell_type": "code",
      "source": [
        "train.shape"
      ],
      "metadata": {
        "execution": {
          "iopub.status.busy": "2024-04-26T05:12:05.036923Z",
          "iopub.execute_input": "2024-04-26T05:12:05.037314Z",
          "iopub.status.idle": "2024-04-26T05:12:05.044205Z",
          "shell.execute_reply.started": "2024-04-26T05:12:05.037285Z",
          "shell.execute_reply": "2024-04-26T05:12:05.043038Z"
        },
        "trusted": true,
        "id": "3-nG6xO4PdlF"
      },
      "execution_count": null,
      "outputs": []
    },
    {
      "cell_type": "code",
      "source": [
        "train[sel_features+['Rating']].corr()"
      ],
      "metadata": {
        "execution": {
          "iopub.status.busy": "2024-04-26T05:12:07.041456Z",
          "iopub.execute_input": "2024-04-26T05:12:07.041875Z",
          "iopub.status.idle": "2024-04-26T05:12:07.060403Z",
          "shell.execute_reply.started": "2024-04-26T05:12:07.041841Z",
          "shell.execute_reply": "2024-04-26T05:12:07.059276Z"
        },
        "trusted": true,
        "id": "7J7d8AK6PdlF"
      },
      "execution_count": null,
      "outputs": []
    },
    {
      "cell_type": "code",
      "source": [
        "sns.heatmap(train[sel_features+['Rating']].corr())"
      ],
      "metadata": {
        "execution": {
          "iopub.status.busy": "2024-04-26T05:12:09.250845Z",
          "iopub.execute_input": "2024-04-26T05:12:09.251244Z",
          "iopub.status.idle": "2024-04-26T05:12:09.542961Z",
          "shell.execute_reply.started": "2024-04-26T05:12:09.251212Z",
          "shell.execute_reply": "2024-04-26T05:12:09.541933Z"
        },
        "trusted": true,
        "id": "M4gJeXVwPdlF"
      },
      "execution_count": null,
      "outputs": []
    },
    {
      "cell_type": "code",
      "source": [
        "test.head()"
      ],
      "metadata": {
        "execution": {
          "iopub.status.busy": "2024-04-26T05:12:12.02305Z",
          "iopub.execute_input": "2024-04-26T05:12:12.023838Z",
          "iopub.status.idle": "2024-04-26T05:12:12.038719Z",
          "shell.execute_reply.started": "2024-04-26T05:12:12.023807Z",
          "shell.execute_reply": "2024-04-26T05:12:12.037466Z"
        },
        "trusted": true,
        "id": "J_lUuPxQPdlF"
      },
      "execution_count": null,
      "outputs": []
    },
    {
      "cell_type": "code",
      "source": [
        "test.shape"
      ],
      "metadata": {
        "execution": {
          "iopub.status.busy": "2024-04-26T05:12:20.648651Z",
          "iopub.execute_input": "2024-04-26T05:12:20.649519Z",
          "iopub.status.idle": "2024-04-26T05:12:20.656499Z",
          "shell.execute_reply.started": "2024-04-26T05:12:20.649477Z",
          "shell.execute_reply": "2024-04-26T05:12:20.655292Z"
        },
        "trusted": true,
        "id": "YWY3RgiePdlF"
      },
      "execution_count": null,
      "outputs": []
    },
    {
      "cell_type": "code",
      "source": [
        "test.isnull().sum()"
      ],
      "metadata": {
        "execution": {
          "iopub.status.busy": "2024-04-26T05:12:22.559368Z",
          "iopub.execute_input": "2024-04-26T05:12:22.559775Z",
          "iopub.status.idle": "2024-04-26T05:12:22.571135Z",
          "shell.execute_reply.started": "2024-04-26T05:12:22.559745Z",
          "shell.execute_reply": "2024-04-26T05:12:22.570063Z"
        },
        "trusted": true,
        "id": "bKFOai8UPdlF"
      },
      "execution_count": null,
      "outputs": []
    },
    {
      "cell_type": "code",
      "source": [
        "test_sel = test[sel_features]"
      ],
      "metadata": {
        "execution": {
          "iopub.status.busy": "2024-04-26T05:12:25.040391Z",
          "iopub.execute_input": "2024-04-26T05:12:25.040826Z",
          "iopub.status.idle": "2024-04-26T05:12:25.04693Z",
          "shell.execute_reply.started": "2024-04-26T05:12:25.040795Z",
          "shell.execute_reply": "2024-04-26T05:12:25.045786Z"
        },
        "trusted": true,
        "id": "wCAjmyPNPdlF"
      },
      "execution_count": null,
      "outputs": []
    },
    {
      "cell_type": "code",
      "source": [
        "test_sel.head()"
      ],
      "metadata": {
        "execution": {
          "iopub.status.busy": "2024-04-26T04:42:23.340535Z",
          "iopub.execute_input": "2024-04-26T04:42:23.341465Z",
          "iopub.status.idle": "2024-04-26T04:42:23.351903Z",
          "shell.execute_reply.started": "2024-04-26T04:42:23.341432Z",
          "shell.execute_reply": "2024-04-26T04:42:23.350685Z"
        },
        "trusted": true,
        "id": "mJjVB-KPPdlF"
      },
      "execution_count": null,
      "outputs": []
    },
    {
      "cell_type": "code",
      "source": [
        "Y = train['Rating']"
      ],
      "metadata": {
        "execution": {
          "iopub.status.busy": "2024-04-26T05:12:52.828746Z",
          "iopub.execute_input": "2024-04-26T05:12:52.829278Z",
          "iopub.status.idle": "2024-04-26T05:12:52.835032Z",
          "shell.execute_reply.started": "2024-04-26T05:12:52.82924Z",
          "shell.execute_reply": "2024-04-26T05:12:52.833812Z"
        },
        "trusted": true,
        "id": "kf3Uqt5ePdlF"
      },
      "execution_count": null,
      "outputs": []
    },
    {
      "cell_type": "code",
      "source": [
        "Y.shape"
      ],
      "metadata": {
        "execution": {
          "iopub.status.busy": "2024-04-26T05:12:54.60634Z",
          "iopub.execute_input": "2024-04-26T05:12:54.607138Z",
          "iopub.status.idle": "2024-04-26T05:12:54.614088Z",
          "shell.execute_reply.started": "2024-04-26T05:12:54.607078Z",
          "shell.execute_reply": "2024-04-26T05:12:54.612938Z"
        },
        "trusted": true,
        "id": "90MCNtklPdlF"
      },
      "execution_count": null,
      "outputs": []
    },
    {
      "cell_type": "code",
      "source": [
        "X = train[sel_features+['Recipe_Review']]"
      ],
      "metadata": {
        "execution": {
          "iopub.status.busy": "2024-04-26T05:13:06.08522Z",
          "iopub.execute_input": "2024-04-26T05:13:06.085631Z",
          "iopub.status.idle": "2024-04-26T05:13:06.09575Z",
          "shell.execute_reply.started": "2024-04-26T05:13:06.085587Z",
          "shell.execute_reply": "2024-04-26T05:13:06.094655Z"
        },
        "trusted": true,
        "id": "5baKJUgGPdlG"
      },
      "execution_count": null,
      "outputs": []
    },
    {
      "cell_type": "code",
      "source": [
        "X.shape"
      ],
      "metadata": {
        "execution": {
          "iopub.status.busy": "2024-04-26T05:13:09.134454Z",
          "iopub.execute_input": "2024-04-26T05:13:09.13542Z",
          "iopub.status.idle": "2024-04-26T05:13:09.141713Z",
          "shell.execute_reply.started": "2024-04-26T05:13:09.135379Z",
          "shell.execute_reply": "2024-04-26T05:13:09.140569Z"
        },
        "trusted": true,
        "id": "Z34i0e8tPdlG"
      },
      "execution_count": null,
      "outputs": []
    },
    {
      "cell_type": "code",
      "source": [
        "X.head()"
      ],
      "metadata": {
        "execution": {
          "iopub.status.busy": "2024-04-26T05:13:11.394706Z",
          "iopub.execute_input": "2024-04-26T05:13:11.395086Z",
          "iopub.status.idle": "2024-04-26T05:13:11.407489Z",
          "shell.execute_reply.started": "2024-04-26T05:13:11.395058Z",
          "shell.execute_reply": "2024-04-26T05:13:11.406394Z"
        },
        "trusted": true,
        "id": "LM1ZTCrQPdlG"
      },
      "execution_count": null,
      "outputs": []
    },
    {
      "cell_type": "code",
      "source": [
        "X_train,X_test,y_train,y_test = train_test_split(X,Y,test_size=0.2,random_state=42)"
      ],
      "metadata": {
        "execution": {
          "iopub.status.busy": "2024-04-26T05:13:15.102323Z",
          "iopub.execute_input": "2024-04-26T05:13:15.102755Z",
          "iopub.status.idle": "2024-04-26T05:13:15.112776Z",
          "shell.execute_reply.started": "2024-04-26T05:13:15.102722Z",
          "shell.execute_reply": "2024-04-26T05:13:15.111675Z"
        },
        "trusted": true,
        "id": "RfEUEm27PdlG"
      },
      "execution_count": null,
      "outputs": []
    },
    {
      "cell_type": "code",
      "source": [
        "X_train.shape"
      ],
      "metadata": {
        "execution": {
          "iopub.status.busy": "2024-04-26T05:13:17.924399Z",
          "iopub.execute_input": "2024-04-26T05:13:17.924811Z",
          "iopub.status.idle": "2024-04-26T05:13:17.934259Z",
          "shell.execute_reply.started": "2024-04-26T05:13:17.924777Z",
          "shell.execute_reply": "2024-04-26T05:13:17.932512Z"
        },
        "trusted": true,
        "id": "tuYHIZ60PdlG"
      },
      "execution_count": null,
      "outputs": []
    },
    {
      "cell_type": "code",
      "source": [
        "y_train.shape"
      ],
      "metadata": {
        "execution": {
          "iopub.status.busy": "2024-04-26T05:13:20.639337Z",
          "iopub.execute_input": "2024-04-26T05:13:20.639751Z",
          "iopub.status.idle": "2024-04-26T05:13:20.6484Z",
          "shell.execute_reply.started": "2024-04-26T05:13:20.639719Z",
          "shell.execute_reply": "2024-04-26T05:13:20.647351Z"
        },
        "trusted": true,
        "id": "uo3VvCYjPdlG"
      },
      "execution_count": null,
      "outputs": []
    },
    {
      "cell_type": "markdown",
      "source": [
        "## Text Preprocessing"
      ],
      "metadata": {
        "id": "FoNPM6j4PdlG"
      }
    },
    {
      "cell_type": "code",
      "source": [
        "def preprocess_text_data(values):\n",
        "    preprocessed_text=[]\n",
        "    for sen in values:\n",
        "        sen=str(sen).lower()\n",
        "        # removing special characters\n",
        "        sen=sen.replace(\"'s\",' is').replace(\"'\",'').replace('!','').replace(',',' ').replace('-',' ').replace('.','')\n",
        "        sen = sen.replace('\\r','').replace('\\n','').replace('\\\"','').replace('&','').replace('=','').replace('?','').replace(':','').replace(\"'re\",' are')\n",
        "        sen = sen.replace(\"'ve\",' have').replace(\"'m\",' am').replace(\"'t\",' not').replace(\"doesnt\",\"does not\").replace(\"wasnt\",'was not').replace(\"didnt\",'did not').replace(\"…\",' ').replace(\"….\",' ').replace('\\\\r','').replace('\\\\n','')\n",
        "        sen = sen.replace('\\\\','').replace('*','').replace(\"'\",'').replace(\";\",'').replace(\"+\",'').replace(\"%\",'').replace(\" \",' ')\n",
        "        # except a-z and A-Z remove all things from sentence.\n",
        "        sen = re.sub('[^a-zA-Z \\n\\.]', '', sen)\n",
        "\n",
        "        preprocessed_text.append(sen.strip())\n",
        "    return preprocessed_text"
      ],
      "metadata": {
        "execution": {
          "iopub.status.busy": "2024-04-26T05:27:24.589789Z",
          "iopub.execute_input": "2024-04-26T05:27:24.590782Z",
          "iopub.status.idle": "2024-04-26T05:27:24.599484Z",
          "shell.execute_reply.started": "2024-04-26T05:27:24.590746Z",
          "shell.execute_reply": "2024-04-26T05:27:24.598355Z"
        },
        "trusted": true,
        "id": "FObpny1uPdlG"
      },
      "execution_count": null,
      "outputs": []
    },
    {
      "cell_type": "code",
      "source": [
        "X_train['Recipe_Review'] = preprocess_text_data(X_train['Recipe_Review'])"
      ],
      "metadata": {
        "execution": {
          "iopub.status.busy": "2024-04-26T05:32:57.023759Z",
          "iopub.execute_input": "2024-04-26T05:32:57.0242Z",
          "iopub.status.idle": "2024-04-26T05:32:57.132126Z",
          "shell.execute_reply.started": "2024-04-26T05:32:57.024168Z",
          "shell.execute_reply": "2024-04-26T05:32:57.131154Z"
        },
        "trusted": true,
        "id": "vKcN3w4HPdlH"
      },
      "execution_count": null,
      "outputs": []
    },
    {
      "cell_type": "code",
      "source": [
        "tfidf = TfidfVectorizer(stop_words=\"english\",min_df=70)\n",
        "\n",
        "rev_train = tfidf.fit_transform(X_train['Recipe_Review'])"
      ],
      "metadata": {
        "execution": {
          "iopub.status.busy": "2024-04-26T05:32:58.501449Z",
          "iopub.execute_input": "2024-04-26T05:32:58.502186Z",
          "iopub.status.idle": "2024-04-26T05:32:58.817076Z",
          "shell.execute_reply.started": "2024-04-26T05:32:58.502149Z",
          "shell.execute_reply": "2024-04-26T05:32:58.81618Z"
        },
        "trusted": true,
        "id": "RdMKYKsuPdlP"
      },
      "execution_count": null,
      "outputs": []
    },
    {
      "cell_type": "code",
      "source": [
        "tfidf.vocabulary_.keys()\n"
      ],
      "metadata": {
        "execution": {
          "iopub.status.busy": "2024-04-26T05:33:00.70761Z",
          "iopub.execute_input": "2024-04-26T05:33:00.707986Z",
          "iopub.status.idle": "2024-04-26T05:33:00.714694Z",
          "shell.execute_reply.started": "2024-04-26T05:33:00.707956Z",
          "shell.execute_reply": "2024-04-26T05:33:00.713665Z"
        },
        "trusted": true,
        "id": "sM2g6c-IPdlP"
      },
      "execution_count": null,
      "outputs": []
    },
    {
      "cell_type": "code",
      "source": [
        "rev_train.shape"
      ],
      "metadata": {
        "execution": {
          "iopub.status.busy": "2024-04-26T05:33:03.808961Z",
          "iopub.execute_input": "2024-04-26T05:33:03.809396Z",
          "iopub.status.idle": "2024-04-26T05:33:03.81577Z",
          "shell.execute_reply.started": "2024-04-26T05:33:03.809358Z",
          "shell.execute_reply": "2024-04-26T05:33:03.814681Z"
        },
        "trusted": true,
        "id": "-MMbpFwuPdlP"
      },
      "execution_count": null,
      "outputs": []
    },
    {
      "cell_type": "code",
      "source": [
        "rev_test = tfidf.transform(X_test['Recipe_Review'])"
      ],
      "metadata": {
        "execution": {
          "iopub.status.busy": "2024-04-26T05:33:07.216004Z",
          "iopub.execute_input": "2024-04-26T05:33:07.2164Z",
          "iopub.status.idle": "2024-04-26T05:33:07.30627Z",
          "shell.execute_reply.started": "2024-04-26T05:33:07.216369Z",
          "shell.execute_reply": "2024-04-26T05:33:07.305236Z"
        },
        "trusted": true,
        "id": "nBtShTgUPdlP"
      },
      "execution_count": null,
      "outputs": []
    },
    {
      "cell_type": "code",
      "source": [
        "rev_test.shape"
      ],
      "metadata": {
        "execution": {
          "iopub.status.busy": "2024-04-26T05:33:09.478087Z",
          "iopub.execute_input": "2024-04-26T05:33:09.478477Z",
          "iopub.status.idle": "2024-04-26T05:33:09.485429Z",
          "shell.execute_reply.started": "2024-04-26T05:33:09.478448Z",
          "shell.execute_reply": "2024-04-26T05:33:09.484356Z"
        },
        "trusted": true,
        "id": "AOBGMTIQPdlP"
      },
      "execution_count": null,
      "outputs": []
    },
    {
      "cell_type": "code",
      "source": [
        "rev_predict = tfidf.transform(test['Recipe_Review'])"
      ],
      "metadata": {
        "execution": {
          "iopub.status.busy": "2024-04-26T07:03:39.707816Z",
          "iopub.execute_input": "2024-04-26T07:03:39.708253Z",
          "iopub.status.idle": "2024-04-26T07:03:39.845701Z",
          "shell.execute_reply.started": "2024-04-26T07:03:39.708225Z",
          "shell.execute_reply": "2024-04-26T07:03:39.844643Z"
        },
        "trusted": true,
        "id": "3DpGk_hdPdlP"
      },
      "execution_count": null,
      "outputs": []
    },
    {
      "cell_type": "code",
      "source": [
        "rev_predict.shape"
      ],
      "metadata": {
        "execution": {
          "iopub.status.busy": "2024-04-26T07:03:59.787838Z",
          "iopub.execute_input": "2024-04-26T07:03:59.788494Z",
          "iopub.status.idle": "2024-04-26T07:03:59.794623Z",
          "shell.execute_reply.started": "2024-04-26T07:03:59.788463Z",
          "shell.execute_reply": "2024-04-26T07:03:59.793557Z"
        },
        "trusted": true,
        "id": "72M5UyCxPdlP"
      },
      "execution_count": null,
      "outputs": []
    },
    {
      "cell_type": "code",
      "source": [],
      "metadata": {
        "id": "Hf6uWejfPdlP"
      },
      "execution_count": null,
      "outputs": []
    },
    {
      "cell_type": "markdown",
      "source": [
        "## Data Scaling"
      ],
      "metadata": {
        "id": "yIfqnBWzPdlP"
      }
    },
    {
      "cell_type": "code",
      "source": [
        "mms = MinMaxScaler()"
      ],
      "metadata": {
        "execution": {
          "iopub.status.busy": "2024-04-26T06:06:19.054569Z",
          "iopub.execute_input": "2024-04-26T06:06:19.055581Z",
          "iopub.status.idle": "2024-04-26T06:06:19.061516Z",
          "shell.execute_reply.started": "2024-04-26T06:06:19.055539Z",
          "shell.execute_reply": "2024-04-26T06:06:19.059572Z"
        },
        "trusted": true,
        "id": "GyQ7KpgsPdlQ"
      },
      "execution_count": null,
      "outputs": []
    },
    {
      "cell_type": "code",
      "source": [
        "X_train_normalized = pd.DataFrame(mms.fit_transform(X_train[sel_features]))"
      ],
      "metadata": {
        "execution": {
          "iopub.status.busy": "2024-04-26T06:07:20.888674Z",
          "iopub.execute_input": "2024-04-26T06:07:20.889219Z",
          "iopub.status.idle": "2024-04-26T06:07:20.901962Z",
          "shell.execute_reply.started": "2024-04-26T06:07:20.889183Z",
          "shell.execute_reply": "2024-04-26T06:07:20.900754Z"
        },
        "trusted": true,
        "id": "eT_VHIdYPdlQ"
      },
      "execution_count": null,
      "outputs": []
    },
    {
      "cell_type": "code",
      "source": [
        "X_train_normalized.describe()"
      ],
      "metadata": {
        "execution": {
          "iopub.status.busy": "2024-04-26T06:07:37.205199Z",
          "iopub.execute_input": "2024-04-26T06:07:37.205622Z",
          "iopub.status.idle": "2024-04-26T06:07:37.243254Z",
          "shell.execute_reply.started": "2024-04-26T06:07:37.205573Z",
          "shell.execute_reply": "2024-04-26T06:07:37.241996Z"
        },
        "trusted": true,
        "id": "uXW65VtmPdlQ"
      },
      "execution_count": null,
      "outputs": []
    },
    {
      "cell_type": "code",
      "source": [
        "X_test_normalized = pd.DataFrame(mms.transform(X_test[sel_features]))"
      ],
      "metadata": {
        "execution": {
          "iopub.status.busy": "2024-04-26T06:09:10.687619Z",
          "iopub.execute_input": "2024-04-26T06:09:10.688138Z",
          "iopub.status.idle": "2024-04-26T06:09:10.700659Z",
          "shell.execute_reply.started": "2024-04-26T06:09:10.688107Z",
          "shell.execute_reply": "2024-04-26T06:09:10.698784Z"
        },
        "trusted": true,
        "id": "QMQ6Vn_oPdlQ"
      },
      "execution_count": null,
      "outputs": []
    },
    {
      "cell_type": "code",
      "source": [
        "X_predict_normalized = pd.DataFrame(mms.transform(test[sel_features]))"
      ],
      "metadata": {
        "execution": {
          "iopub.status.busy": "2024-04-26T07:05:54.23783Z",
          "iopub.execute_input": "2024-04-26T07:05:54.238295Z",
          "iopub.status.idle": "2024-04-26T07:05:54.247659Z",
          "shell.execute_reply.started": "2024-04-26T07:05:54.238261Z",
          "shell.execute_reply": "2024-04-26T07:05:54.246669Z"
        },
        "trusted": true,
        "id": "txVNbjspPdlQ"
      },
      "execution_count": null,
      "outputs": []
    },
    {
      "cell_type": "code",
      "source": [
        "X_rec_train = np.hstack((rev_train.toarray(),X_train_normalized))"
      ],
      "metadata": {
        "execution": {
          "iopub.status.busy": "2024-04-26T06:08:33.494806Z",
          "iopub.execute_input": "2024-04-26T06:08:33.495217Z",
          "iopub.status.idle": "2024-04-26T06:08:33.588563Z",
          "shell.execute_reply.started": "2024-04-26T06:08:33.495185Z",
          "shell.execute_reply": "2024-04-26T06:08:33.587325Z"
        },
        "trusted": true,
        "id": "g9KggDftPdlQ"
      },
      "execution_count": null,
      "outputs": []
    },
    {
      "cell_type": "code",
      "source": [
        "X_rec_test = np.hstack((rev_test.toarray(),X_test_normalized))"
      ],
      "metadata": {
        "execution": {
          "iopub.status.busy": "2024-04-26T06:09:28.446893Z",
          "iopub.execute_input": "2024-04-26T06:09:28.44839Z",
          "iopub.status.idle": "2024-04-26T06:09:28.477676Z",
          "shell.execute_reply.started": "2024-04-26T06:09:28.44833Z",
          "shell.execute_reply": "2024-04-26T06:09:28.476036Z"
        },
        "trusted": true,
        "id": "kCgEgQONPdlQ"
      },
      "execution_count": null,
      "outputs": []
    },
    {
      "cell_type": "code",
      "source": [
        "X_rec_predict = np.hstack((rev_predict.toarray(),X_predict_normalized))"
      ],
      "metadata": {
        "execution": {
          "iopub.status.busy": "2024-04-26T07:06:16.08543Z",
          "iopub.execute_input": "2024-04-26T07:06:16.086117Z",
          "iopub.status.idle": "2024-04-26T07:06:16.098267Z",
          "shell.execute_reply.started": "2024-04-26T07:06:16.086084Z",
          "shell.execute_reply": "2024-04-26T07:06:16.097165Z"
        },
        "trusted": true,
        "id": "gSnd5As6PdlQ"
      },
      "execution_count": null,
      "outputs": []
    },
    {
      "cell_type": "code",
      "source": [
        "X_rec_train.shape"
      ],
      "metadata": {
        "execution": {
          "iopub.status.busy": "2024-04-26T06:09:32.020629Z",
          "iopub.execute_input": "2024-04-26T06:09:32.021164Z",
          "iopub.status.idle": "2024-04-26T06:09:32.032078Z",
          "shell.execute_reply.started": "2024-04-26T06:09:32.021124Z",
          "shell.execute_reply": "2024-04-26T06:09:32.030128Z"
        },
        "trusted": true,
        "id": "NpNT9rXqPdlQ"
      },
      "execution_count": null,
      "outputs": []
    },
    {
      "cell_type": "code",
      "source": [
        "X_rec_test.shape"
      ],
      "metadata": {
        "execution": {
          "iopub.status.busy": "2024-04-26T06:09:34.160422Z",
          "iopub.execute_input": "2024-04-26T06:09:34.161757Z",
          "iopub.status.idle": "2024-04-26T06:09:34.169044Z",
          "shell.execute_reply.started": "2024-04-26T06:09:34.161699Z",
          "shell.execute_reply": "2024-04-26T06:09:34.167844Z"
        },
        "trusted": true,
        "id": "0Ye5dnVePdlQ"
      },
      "execution_count": null,
      "outputs": []
    },
    {
      "cell_type": "markdown",
      "source": [
        "## Applying Smote"
      ],
      "metadata": {
        "id": "xn0YZNADPdlR"
      }
    },
    {
      "cell_type": "code",
      "source": [
        "np.unique(y_train,return_counts=True)"
      ],
      "metadata": {
        "execution": {
          "iopub.status.busy": "2024-04-26T06:10:20.950794Z",
          "iopub.execute_input": "2024-04-26T06:10:20.951191Z",
          "iopub.status.idle": "2024-04-26T06:10:20.960394Z",
          "shell.execute_reply.started": "2024-04-26T06:10:20.95116Z",
          "shell.execute_reply": "2024-04-26T06:10:20.959217Z"
        },
        "trusted": true,
        "id": "85wCENVAPdlR"
      },
      "execution_count": null,
      "outputs": []
    },
    {
      "cell_type": "code",
      "source": [
        "sm = SMOTE(random_state=42)"
      ],
      "metadata": {
        "execution": {
          "iopub.status.busy": "2024-04-26T06:10:58.84069Z",
          "iopub.execute_input": "2024-04-26T06:10:58.841158Z",
          "iopub.status.idle": "2024-04-26T06:10:58.848619Z",
          "shell.execute_reply.started": "2024-04-26T06:10:58.841124Z",
          "shell.execute_reply": "2024-04-26T06:10:58.846485Z"
        },
        "trusted": true,
        "id": "RHPUjZRrPdlR"
      },
      "execution_count": null,
      "outputs": []
    },
    {
      "cell_type": "code",
      "source": [
        "X_train_smote, y_train_smote = sm.fit_resample(X_rec_train,y_train)"
      ],
      "metadata": {
        "execution": {
          "iopub.status.busy": "2024-04-26T06:11:45.413314Z",
          "iopub.execute_input": "2024-04-26T06:11:45.413895Z",
          "iopub.status.idle": "2024-04-26T06:11:46.410989Z",
          "shell.execute_reply.started": "2024-04-26T06:11:45.413857Z",
          "shell.execute_reply": "2024-04-26T06:11:46.409361Z"
        },
        "trusted": true,
        "id": "aei-QVwYPdlR"
      },
      "execution_count": null,
      "outputs": []
    },
    {
      "cell_type": "code",
      "source": [
        "np.unique(y_train_smote,return_counts=True)"
      ],
      "metadata": {
        "execution": {
          "iopub.status.busy": "2024-04-26T06:12:13.423179Z",
          "iopub.execute_input": "2024-04-26T06:12:13.423583Z",
          "iopub.status.idle": "2024-04-26T06:12:13.435206Z",
          "shell.execute_reply.started": "2024-04-26T06:12:13.423552Z",
          "shell.execute_reply": "2024-04-26T06:12:13.433428Z"
        },
        "trusted": true,
        "id": "-HdehBXjPdlR"
      },
      "execution_count": null,
      "outputs": []
    },
    {
      "cell_type": "code",
      "source": [
        "LG = LogisticRegression()"
      ],
      "metadata": {
        "execution": {
          "iopub.status.busy": "2024-04-26T06:12:28.837772Z",
          "iopub.execute_input": "2024-04-26T06:12:28.838273Z",
          "iopub.status.idle": "2024-04-26T06:12:28.844729Z",
          "shell.execute_reply.started": "2024-04-26T06:12:28.838244Z",
          "shell.execute_reply": "2024-04-26T06:12:28.842812Z"
        },
        "trusted": true,
        "id": "6dBVvmJePdlR"
      },
      "execution_count": null,
      "outputs": []
    },
    {
      "cell_type": "code",
      "source": [
        "LG.fit(X_train_smote,y_train_smote)"
      ],
      "metadata": {
        "execution": {
          "iopub.status.busy": "2024-04-26T06:12:55.349079Z",
          "iopub.execute_input": "2024-04-26T06:12:55.349583Z",
          "iopub.status.idle": "2024-04-26T06:13:03.360811Z",
          "shell.execute_reply.started": "2024-04-26T06:12:55.34955Z",
          "shell.execute_reply": "2024-04-26T06:13:03.359628Z"
        },
        "trusted": true,
        "id": "UVyd7Z4_PdlR"
      },
      "execution_count": null,
      "outputs": []
    },
    {
      "cell_type": "code",
      "source": [
        "## predicting actual training data\n",
        "y_predict = LG.predict(X_train_smote)\n",
        "accuracy_score(y_train_smote,y_predict)"
      ],
      "metadata": {
        "execution": {
          "iopub.status.busy": "2024-04-26T06:27:43.182756Z",
          "iopub.execute_input": "2024-04-26T06:27:43.18355Z",
          "iopub.status.idle": "2024-04-26T06:27:43.294124Z",
          "shell.execute_reply.started": "2024-04-26T06:27:43.183512Z",
          "shell.execute_reply": "2024-04-26T06:27:43.292929Z"
        },
        "trusted": true,
        "id": "L34uIiXLPdlR"
      },
      "execution_count": null,
      "outputs": []
    },
    {
      "cell_type": "code",
      "source": [
        "# predicting test data\n",
        "y_predict = LG.predict(X_rec_test)\n",
        "accuracy_score(y_test,y_predict)"
      ],
      "metadata": {
        "execution": {
          "iopub.status.busy": "2024-04-26T06:27:41.398031Z",
          "iopub.execute_input": "2024-04-26T06:27:41.398449Z",
          "iopub.status.idle": "2024-04-26T06:27:41.416786Z",
          "shell.execute_reply.started": "2024-04-26T06:27:41.398421Z",
          "shell.execute_reply": "2024-04-26T06:27:41.414995Z"
        },
        "trusted": true,
        "id": "WwFlBFxtPdlR"
      },
      "execution_count": null,
      "outputs": []
    },
    {
      "cell_type": "code",
      "source": [
        "## Showing underfitting after applying smote"
      ],
      "metadata": {
        "id": "aIrBN9rWPdlR"
      },
      "execution_count": null,
      "outputs": []
    },
    {
      "cell_type": "markdown",
      "source": [
        "## Without Smote"
      ],
      "metadata": {
        "id": "E-9nVbpKPdlR"
      }
    },
    {
      "cell_type": "code",
      "source": [
        "LG1 = LogisticRegression()"
      ],
      "metadata": {
        "execution": {
          "iopub.status.busy": "2024-04-26T06:18:57.932156Z",
          "iopub.execute_input": "2024-04-26T06:18:57.932874Z",
          "iopub.status.idle": "2024-04-26T06:18:57.939501Z",
          "shell.execute_reply.started": "2024-04-26T06:18:57.932823Z",
          "shell.execute_reply": "2024-04-26T06:18:57.937925Z"
        },
        "trusted": true,
        "id": "tfctrVMEPdlR"
      },
      "execution_count": null,
      "outputs": []
    },
    {
      "cell_type": "code",
      "source": [
        "LG1.fit(X_rec_train,y_train)"
      ],
      "metadata": {
        "execution": {
          "iopub.status.busy": "2024-04-26T06:19:42.077813Z",
          "iopub.execute_input": "2024-04-26T06:19:42.078269Z",
          "iopub.status.idle": "2024-04-26T06:19:43.936979Z",
          "shell.execute_reply.started": "2024-04-26T06:19:42.078235Z",
          "shell.execute_reply": "2024-04-26T06:19:43.935535Z"
        },
        "trusted": true,
        "id": "HnR5f4zJPdlS"
      },
      "execution_count": null,
      "outputs": []
    },
    {
      "cell_type": "code",
      "source": [
        "## predicting actual training data\n",
        "y_predict = LG1.predict(X_rec_train)\n",
        "accuracy_score(y_train,y_predict)"
      ],
      "metadata": {
        "execution": {
          "iopub.status.busy": "2024-04-26T06:22:41.193899Z",
          "iopub.execute_input": "2024-04-26T06:22:41.194389Z",
          "iopub.status.idle": "2024-04-26T06:22:41.223554Z",
          "shell.execute_reply.started": "2024-04-26T06:22:41.194352Z",
          "shell.execute_reply": "2024-04-26T06:22:41.221819Z"
        },
        "trusted": true,
        "id": "TVdv0LdhPdlS"
      },
      "execution_count": null,
      "outputs": []
    },
    {
      "cell_type": "code",
      "source": [
        "## predicting training data\n",
        "y_predict = LG1.predict(X_rec_test)\n",
        "accuracy_score(y_test,y_predict)"
      ],
      "metadata": {
        "execution": {
          "iopub.status.busy": "2024-04-26T06:30:24.131472Z",
          "iopub.execute_input": "2024-04-26T06:30:24.13194Z",
          "iopub.status.idle": "2024-04-26T06:30:24.14696Z",
          "shell.execute_reply.started": "2024-04-26T06:30:24.131909Z",
          "shell.execute_reply": "2024-04-26T06:30:24.145518Z"
        },
        "trusted": true,
        "id": "P7QDjFtiPdlS"
      },
      "execution_count": null,
      "outputs": []
    },
    {
      "cell_type": "markdown",
      "source": [
        "## Hyperparameter Tuning"
      ],
      "metadata": {
        "id": "0FrVaCT-PdlS"
      }
    },
    {
      "cell_type": "code",
      "source": [
        "LG2 = LogisticRegression(max_iter=10000,class_weight=\"balanced\")"
      ],
      "metadata": {
        "execution": {
          "iopub.status.busy": "2024-04-26T06:49:44.579297Z",
          "iopub.execute_input": "2024-04-26T06:49:44.580113Z",
          "iopub.status.idle": "2024-04-26T06:49:44.585812Z",
          "shell.execute_reply.started": "2024-04-26T06:49:44.580073Z",
          "shell.execute_reply": "2024-04-26T06:49:44.58402Z"
        },
        "trusted": true,
        "id": "PE2eHU2cPdlS"
      },
      "execution_count": null,
      "outputs": []
    },
    {
      "cell_type": "code",
      "source": [
        "cross_score_LG2 = cross_val_score(LG2,X_rec_train,y_train,scoring='accuracy',cv=5)"
      ],
      "metadata": {
        "execution": {
          "iopub.status.busy": "2024-04-26T06:49:46.872559Z",
          "iopub.execute_input": "2024-04-26T06:49:46.873082Z",
          "iopub.status.idle": "2024-04-26T06:49:56.306522Z",
          "shell.execute_reply.started": "2024-04-26T06:49:46.873045Z",
          "shell.execute_reply": "2024-04-26T06:49:56.304883Z"
        },
        "trusted": true,
        "id": "W0oRF4MVPdlS"
      },
      "execution_count": null,
      "outputs": []
    },
    {
      "cell_type": "code",
      "source": [
        "cross_score_LG2.mean()"
      ],
      "metadata": {
        "execution": {
          "iopub.status.busy": "2024-04-26T06:49:59.255037Z",
          "iopub.execute_input": "2024-04-26T06:49:59.255717Z",
          "iopub.status.idle": "2024-04-26T06:49:59.265872Z",
          "shell.execute_reply.started": "2024-04-26T06:49:59.255657Z",
          "shell.execute_reply": "2024-04-26T06:49:59.264229Z"
        },
        "trusted": true,
        "id": "AII0IWyuPdlS"
      },
      "execution_count": null,
      "outputs": []
    },
    {
      "cell_type": "code",
      "source": [
        "LG3 = LogisticRegression(solver='liblinear',max_iter=10000,class_weight=\"balanced\")"
      ],
      "metadata": {
        "execution": {
          "iopub.status.busy": "2024-04-26T06:50:19.834564Z",
          "iopub.execute_input": "2024-04-26T06:50:19.835333Z",
          "iopub.status.idle": "2024-04-26T06:50:19.841081Z",
          "shell.execute_reply.started": "2024-04-26T06:50:19.835278Z",
          "shell.execute_reply": "2024-04-26T06:50:19.839836Z"
        },
        "trusted": true,
        "id": "iponqS-mPdlT"
      },
      "execution_count": null,
      "outputs": []
    },
    {
      "cell_type": "code",
      "source": [
        "cross_score_LG3 = cross_val_score(LG3,X_rec_train,y_train,scoring='accuracy',cv=5)"
      ],
      "metadata": {
        "execution": {
          "iopub.status.busy": "2024-04-26T06:50:24.478769Z",
          "iopub.execute_input": "2024-04-26T06:50:24.479269Z",
          "iopub.status.idle": "2024-04-26T06:50:26.296098Z",
          "shell.execute_reply.started": "2024-04-26T06:50:24.479233Z",
          "shell.execute_reply": "2024-04-26T06:50:26.294229Z"
        },
        "trusted": true,
        "id": "-Flmst2OPdlT"
      },
      "execution_count": null,
      "outputs": []
    },
    {
      "cell_type": "code",
      "source": [
        "cross_score_LG3.mean()"
      ],
      "metadata": {
        "execution": {
          "iopub.status.busy": "2024-04-26T06:50:27.938341Z",
          "iopub.execute_input": "2024-04-26T06:50:27.938868Z",
          "iopub.status.idle": "2024-04-26T06:50:27.948448Z",
          "shell.execute_reply.started": "2024-04-26T06:50:27.938832Z",
          "shell.execute_reply": "2024-04-26T06:50:27.947076Z"
        },
        "trusted": true,
        "id": "UTxSHe7LPdlT"
      },
      "execution_count": null,
      "outputs": []
    },
    {
      "cell_type": "code",
      "source": [
        "LG4 = LogisticRegression(solver='liblinear',max_iter=10000)"
      ],
      "metadata": {
        "execution": {
          "iopub.status.busy": "2024-04-26T06:52:46.900333Z",
          "iopub.execute_input": "2024-04-26T06:52:46.902538Z",
          "iopub.status.idle": "2024-04-26T06:52:46.910007Z",
          "shell.execute_reply.started": "2024-04-26T06:52:46.902486Z",
          "shell.execute_reply": "2024-04-26T06:52:46.907578Z"
        },
        "trusted": true,
        "id": "886ZQsLmPdlT"
      },
      "execution_count": null,
      "outputs": []
    },
    {
      "cell_type": "code",
      "source": [
        "cross_score_LG4 = cross_val_score(LG4,X_rec_train,y_train,scoring='accuracy',cv=5)"
      ],
      "metadata": {
        "execution": {
          "iopub.status.busy": "2024-04-26T06:52:48.170112Z",
          "iopub.execute_input": "2024-04-26T06:52:48.170533Z",
          "iopub.status.idle": "2024-04-26T06:52:49.73395Z",
          "shell.execute_reply.started": "2024-04-26T06:52:48.170502Z",
          "shell.execute_reply": "2024-04-26T06:52:49.732052Z"
        },
        "trusted": true,
        "id": "AyibNPfLPdlT"
      },
      "execution_count": null,
      "outputs": []
    },
    {
      "cell_type": "code",
      "source": [
        "cross_score_LG4.mean()"
      ],
      "metadata": {
        "execution": {
          "iopub.status.busy": "2024-04-26T06:52:52.553314Z",
          "iopub.execute_input": "2024-04-26T06:52:52.553782Z",
          "iopub.status.idle": "2024-04-26T06:52:52.563224Z",
          "shell.execute_reply.started": "2024-04-26T06:52:52.553751Z",
          "shell.execute_reply": "2024-04-26T06:52:52.56045Z"
        },
        "trusted": true,
        "id": "46EBLiQLPdlT"
      },
      "execution_count": null,
      "outputs": []
    },
    {
      "cell_type": "code",
      "source": [
        "## LG4 is better"
      ],
      "metadata": {
        "id": "QYpeZ2_kPdlT"
      },
      "execution_count": null,
      "outputs": []
    },
    {
      "cell_type": "markdown",
      "source": [
        "## Training Another Models\n"
      ],
      "metadata": {
        "id": "cUtogBYYPdlT"
      }
    },
    {
      "cell_type": "code",
      "source": [
        "dtc = DecisionTreeClassifier(max_depth=3)"
      ],
      "metadata": {
        "execution": {
          "iopub.status.busy": "2024-04-26T07:34:46.278625Z",
          "iopub.execute_input": "2024-04-26T07:34:46.2791Z",
          "iopub.status.idle": "2024-04-26T07:34:46.284398Z",
          "shell.execute_reply.started": "2024-04-26T07:34:46.279069Z",
          "shell.execute_reply": "2024-04-26T07:34:46.283328Z"
        },
        "trusted": true,
        "id": "oJx4-XvxPdlT"
      },
      "execution_count": null,
      "outputs": []
    },
    {
      "cell_type": "code",
      "source": [
        "dtc.fit(X_rec_train,y_train)"
      ],
      "metadata": {
        "execution": {
          "iopub.status.busy": "2024-04-26T07:35:09.20894Z",
          "iopub.execute_input": "2024-04-26T07:35:09.209692Z",
          "iopub.status.idle": "2024-04-26T07:35:09.480343Z",
          "shell.execute_reply.started": "2024-04-26T07:35:09.209658Z",
          "shell.execute_reply": "2024-04-26T07:35:09.47914Z"
        },
        "trusted": true,
        "id": "mO2Oa5VYPdlT"
      },
      "execution_count": null,
      "outputs": []
    },
    {
      "cell_type": "code",
      "source": [
        "y_predict_train = dtc.predict(X_rec_train)\n",
        "accuracy_score(y_train,y_predict_train)"
      ],
      "metadata": {
        "execution": {
          "iopub.status.busy": "2024-04-26T07:36:11.03164Z",
          "iopub.execute_input": "2024-04-26T07:36:11.032024Z",
          "iopub.status.idle": "2024-04-26T07:36:11.048965Z",
          "shell.execute_reply.started": "2024-04-26T07:36:11.031996Z",
          "shell.execute_reply": "2024-04-26T07:36:11.047904Z"
        },
        "trusted": true,
        "id": "cKplmd_SPdlT"
      },
      "execution_count": null,
      "outputs": []
    },
    {
      "cell_type": "code",
      "source": [
        "y_predict = dtc.predict(X_rec_test)\n",
        "accuracy_score(y_test,y_predict)"
      ],
      "metadata": {
        "execution": {
          "iopub.status.busy": "2024-04-26T07:36:16.269917Z",
          "iopub.execute_input": "2024-04-26T07:36:16.270886Z",
          "iopub.status.idle": "2024-04-26T07:36:16.284008Z",
          "shell.execute_reply.started": "2024-04-26T07:36:16.270715Z",
          "shell.execute_reply": "2024-04-26T07:36:16.283082Z"
        },
        "trusted": true,
        "id": "bxN6f4hdPdlT"
      },
      "execution_count": null,
      "outputs": []
    },
    {
      "cell_type": "code",
      "source": [
        "rfc = RandomForestClassifier(class_weight=\"balanced\")"
      ],
      "metadata": {
        "execution": {
          "iopub.status.busy": "2024-04-26T06:54:21.409415Z",
          "iopub.execute_input": "2024-04-26T06:54:21.40997Z",
          "iopub.status.idle": "2024-04-26T06:54:21.418923Z",
          "shell.execute_reply.started": "2024-04-26T06:54:21.409936Z",
          "shell.execute_reply": "2024-04-26T06:54:21.417211Z"
        },
        "trusted": true,
        "id": "ECS3WK-RPdlU"
      },
      "execution_count": null,
      "outputs": []
    },
    {
      "cell_type": "code",
      "source": [
        "rfc.fit(X_rec_train,y_train)"
      ],
      "metadata": {
        "execution": {
          "iopub.status.busy": "2024-04-26T06:54:46.478423Z",
          "iopub.execute_input": "2024-04-26T06:54:46.480154Z",
          "iopub.status.idle": "2024-04-26T06:54:57.143457Z",
          "shell.execute_reply.started": "2024-04-26T06:54:46.480096Z",
          "shell.execute_reply": "2024-04-26T06:54:57.142048Z"
        },
        "trusted": true,
        "id": "_w7uvPB1PdlU"
      },
      "execution_count": null,
      "outputs": []
    },
    {
      "cell_type": "code",
      "source": [
        "y_predict_train = rfc.predict(X_rec_train)\n",
        "accuracy_score(y_train,y_predict_train)"
      ],
      "metadata": {
        "execution": {
          "iopub.status.busy": "2024-04-26T06:55:18.733391Z",
          "iopub.execute_input": "2024-04-26T06:55:18.734286Z",
          "iopub.status.idle": "2024-04-26T06:55:19.385716Z",
          "shell.execute_reply.started": "2024-04-26T06:55:18.734246Z",
          "shell.execute_reply": "2024-04-26T06:55:19.38402Z"
        },
        "trusted": true,
        "id": "6JlZ69BXPdlU"
      },
      "execution_count": null,
      "outputs": []
    },
    {
      "cell_type": "code",
      "source": [
        "y_predict = rfc.predict(X_rec_test)\n",
        "accuracy_score(y_test,y_predict)"
      ],
      "metadata": {
        "execution": {
          "iopub.status.busy": "2024-04-26T06:56:03.410814Z",
          "iopub.execute_input": "2024-04-26T06:56:03.411179Z",
          "iopub.status.idle": "2024-04-26T06:56:03.569922Z",
          "shell.execute_reply.started": "2024-04-26T06:56:03.411152Z",
          "shell.execute_reply": "2024-04-26T06:56:03.568815Z"
        },
        "trusted": true,
        "id": "PsCINRtdPdlU"
      },
      "execution_count": null,
      "outputs": []
    },
    {
      "cell_type": "code",
      "source": [
        "sgd = SGDClassifier(loss='hinge')"
      ],
      "metadata": {
        "execution": {
          "iopub.status.busy": "2024-04-26T07:20:46.096285Z",
          "iopub.execute_input": "2024-04-26T07:20:46.097208Z",
          "iopub.status.idle": "2024-04-26T07:20:46.104826Z",
          "shell.execute_reply.started": "2024-04-26T07:20:46.097178Z",
          "shell.execute_reply": "2024-04-26T07:20:46.102815Z"
        },
        "trusted": true,
        "id": "GOaDiPt0PdlU"
      },
      "execution_count": null,
      "outputs": []
    },
    {
      "cell_type": "code",
      "source": [
        "sgd.fit(X_rec_train,y_train)"
      ],
      "metadata": {
        "execution": {
          "iopub.status.busy": "2024-04-26T07:21:27.78663Z",
          "iopub.execute_input": "2024-04-26T07:21:27.787639Z",
          "iopub.status.idle": "2024-04-26T07:21:29.178392Z",
          "shell.execute_reply.started": "2024-04-26T07:21:27.787581Z",
          "shell.execute_reply": "2024-04-26T07:21:29.17717Z"
        },
        "trusted": true,
        "id": "q52Vc1N9PdlU"
      },
      "execution_count": null,
      "outputs": []
    },
    {
      "cell_type": "code",
      "source": [
        "y_predict_train = sgd.predict(X_rec_train)\n",
        "accuracy_score(y_train,y_predict_train)"
      ],
      "metadata": {
        "execution": {
          "iopub.status.busy": "2024-04-26T07:31:07.264694Z",
          "iopub.execute_input": "2024-04-26T07:31:07.265891Z",
          "iopub.status.idle": "2024-04-26T07:31:07.294924Z",
          "shell.execute_reply.started": "2024-04-26T07:31:07.265857Z",
          "shell.execute_reply": "2024-04-26T07:31:07.293762Z"
        },
        "trusted": true,
        "id": "7xAh_mGNPdlU"
      },
      "execution_count": null,
      "outputs": []
    },
    {
      "cell_type": "code",
      "source": [
        "y_predict = sgd.predict(X_rec_test)\n",
        "accuracy_score(y_test,y_predict)"
      ],
      "metadata": {
        "execution": {
          "iopub.status.busy": "2024-04-26T07:31:05.232304Z",
          "iopub.execute_input": "2024-04-26T07:31:05.232783Z",
          "iopub.status.idle": "2024-04-26T07:31:05.252913Z",
          "shell.execute_reply.started": "2024-04-26T07:31:05.232753Z",
          "shell.execute_reply": "2024-04-26T07:31:05.251709Z"
        },
        "trusted": true,
        "id": "BZYLexviPdlU"
      },
      "execution_count": null,
      "outputs": []
    },
    {
      "cell_type": "code",
      "source": [
        "svc = SVC(gamma=\"auto\")"
      ],
      "metadata": {
        "execution": {
          "iopub.status.busy": "2024-04-26T07:49:11.494257Z",
          "iopub.execute_input": "2024-04-26T07:49:11.494728Z",
          "iopub.status.idle": "2024-04-26T07:49:11.500311Z",
          "shell.execute_reply.started": "2024-04-26T07:49:11.494699Z",
          "shell.execute_reply": "2024-04-26T07:49:11.49912Z"
        },
        "trusted": true,
        "id": "dFuYyN7NPdlU"
      },
      "execution_count": null,
      "outputs": []
    },
    {
      "cell_type": "code",
      "source": [
        "svc.fit(X_rec_train,y_train)"
      ],
      "metadata": {
        "execution": {
          "iopub.status.busy": "2024-04-26T07:49:30.097542Z",
          "iopub.execute_input": "2024-04-26T07:49:30.097949Z",
          "iopub.status.idle": "2024-04-26T07:49:55.378012Z",
          "shell.execute_reply.started": "2024-04-26T07:49:30.097919Z",
          "shell.execute_reply": "2024-04-26T07:49:55.376807Z"
        },
        "trusted": true,
        "id": "95sYsV5LPdlU"
      },
      "execution_count": null,
      "outputs": []
    },
    {
      "cell_type": "code",
      "source": [
        "y_predict_train = svc.predict(X_rec_train)\n",
        "accuracy_score(y_train,y_predict_train)"
      ],
      "metadata": {
        "execution": {
          "iopub.status.busy": "2024-04-26T07:50:07.840445Z",
          "iopub.execute_input": "2024-04-26T07:50:07.841441Z",
          "iopub.status.idle": "2024-04-26T07:50:37.533203Z",
          "shell.execute_reply.started": "2024-04-26T07:50:07.8414Z",
          "shell.execute_reply": "2024-04-26T07:50:37.532051Z"
        },
        "trusted": true,
        "id": "xW0yj34VPdlU"
      },
      "execution_count": null,
      "outputs": []
    },
    {
      "cell_type": "code",
      "source": [
        "y_predict_test = svc.predict(X_rec_test)\n",
        "accuracy_score(y_test,y_predict_test)"
      ],
      "metadata": {
        "execution": {
          "iopub.status.busy": "2024-04-26T07:50:37.534884Z",
          "iopub.execute_input": "2024-04-26T07:50:37.535189Z",
          "iopub.status.idle": "2024-04-26T07:50:45.39937Z",
          "shell.execute_reply.started": "2024-04-26T07:50:37.535162Z",
          "shell.execute_reply": "2024-04-26T07:50:45.397361Z"
        },
        "trusted": true,
        "id": "qgRkEIxQPdlU"
      },
      "execution_count": null,
      "outputs": []
    },
    {
      "cell_type": "code",
      "source": [
        "xgbc = xgb.XGBClassifier()"
      ],
      "metadata": {
        "execution": {
          "iopub.status.busy": "2024-04-26T08:05:47.605677Z",
          "iopub.execute_input": "2024-04-26T08:05:47.606458Z",
          "iopub.status.idle": "2024-04-26T08:05:47.611252Z",
          "shell.execute_reply.started": "2024-04-26T08:05:47.606425Z",
          "shell.execute_reply": "2024-04-26T08:05:47.610085Z"
        },
        "trusted": true,
        "id": "6sPk-0JfPdlV"
      },
      "execution_count": null,
      "outputs": []
    },
    {
      "cell_type": "code",
      "source": [
        "xgbc.fit(X_rec_train,y_train)"
      ],
      "metadata": {
        "execution": {
          "iopub.status.busy": "2024-04-26T08:05:49.171983Z",
          "iopub.execute_input": "2024-04-26T08:05:49.172383Z",
          "iopub.status.idle": "2024-04-26T08:06:06.519394Z",
          "shell.execute_reply.started": "2024-04-26T08:05:49.172353Z",
          "shell.execute_reply": "2024-04-26T08:06:06.518417Z"
        },
        "trusted": true,
        "id": "M_vwTdrjPdlV"
      },
      "execution_count": null,
      "outputs": []
    },
    {
      "cell_type": "code",
      "source": [
        "y_predict_train = xgbc.predict(X_rec_train)\n",
        "accuracy_score(y_train,y_predict_train)"
      ],
      "metadata": {
        "execution": {
          "iopub.status.busy": "2024-04-26T08:06:11.763497Z",
          "iopub.execute_input": "2024-04-26T08:06:11.764278Z",
          "iopub.status.idle": "2024-04-26T08:06:11.867854Z",
          "shell.execute_reply.started": "2024-04-26T08:06:11.764242Z",
          "shell.execute_reply": "2024-04-26T08:06:11.866657Z"
        },
        "trusted": true,
        "id": "C42BjFkSPdlV"
      },
      "execution_count": null,
      "outputs": []
    },
    {
      "cell_type": "code",
      "source": [
        "y_predict_test = xgbc.predict(X_rec_test)\n",
        "accuracy_score(y_test,y_predict_test)"
      ],
      "metadata": {
        "execution": {
          "iopub.status.busy": "2024-04-26T08:06:13.317916Z",
          "iopub.execute_input": "2024-04-26T08:06:13.318314Z",
          "iopub.status.idle": "2024-04-26T08:06:13.355067Z",
          "shell.execute_reply.started": "2024-04-26T08:06:13.318283Z",
          "shell.execute_reply": "2024-04-26T08:06:13.354116Z"
        },
        "trusted": true,
        "id": "DNPyqMqvPdlV"
      },
      "execution_count": null,
      "outputs": []
    },
    {
      "cell_type": "code",
      "source": [
        "y_prediction = xgbc.predict(X_rec_predict)"
      ],
      "metadata": {
        "execution": {
          "iopub.status.busy": "2024-04-26T08:06:15.917524Z",
          "iopub.execute_input": "2024-04-26T08:06:15.918532Z",
          "iopub.status.idle": "2024-04-26T08:06:15.964988Z",
          "shell.execute_reply.started": "2024-04-26T08:06:15.918498Z",
          "shell.execute_reply": "2024-04-26T08:06:15.964098Z"
        },
        "trusted": true,
        "id": "8ORMV1D9PdlV"
      },
      "execution_count": null,
      "outputs": []
    },
    {
      "cell_type": "code",
      "source": [
        "y_prediction.shape"
      ],
      "metadata": {
        "execution": {
          "iopub.status.busy": "2024-04-26T08:06:22.33644Z",
          "iopub.execute_input": "2024-04-26T08:06:22.336859Z",
          "iopub.status.idle": "2024-04-26T08:06:22.343841Z",
          "shell.execute_reply.started": "2024-04-26T08:06:22.336829Z",
          "shell.execute_reply": "2024-04-26T08:06:22.342675Z"
        },
        "trusted": true,
        "id": "qtP3fSJ9PdlV"
      },
      "execution_count": null,
      "outputs": []
    },
    {
      "cell_type": "code",
      "source": [
        "submission=pd.DataFrame(columns=['ID','Rating'])\n",
        "submission['ID']=[i for i in range(1,len(y_prediction)+1)]\n",
        "submission['Rating']=y_prediction\n",
        "submission.to_csv('submission.csv',index=False)"
      ],
      "metadata": {
        "execution": {
          "iopub.status.busy": "2024-04-26T08:06:23.635093Z",
          "iopub.execute_input": "2024-04-26T08:06:23.635463Z",
          "iopub.status.idle": "2024-04-26T08:06:23.654827Z",
          "shell.execute_reply.started": "2024-04-26T08:06:23.635435Z",
          "shell.execute_reply": "2024-04-26T08:06:23.653748Z"
        },
        "trusted": true,
        "id": "vYbWUEp_PdlV"
      },
      "execution_count": null,
      "outputs": []
    }
  ]
}